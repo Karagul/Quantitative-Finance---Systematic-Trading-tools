{
 "cells": [
  {
   "cell_type": "code",
   "execution_count": 1,
   "metadata": {},
   "outputs": [],
   "source": [
    "import numpy as np\n",
    "import pandas as pd"
   ]
  },
  {
   "cell_type": "code",
   "execution_count": 2,
   "metadata": {},
   "outputs": [],
   "source": [
    "np.random.seed(2019)"
   ]
  },
  {
   "cell_type": "code",
   "execution_count": 3,
   "metadata": {},
   "outputs": [],
   "source": [
    "### Generate fake data-set of stock returns\n",
    "pd.DataFrame(np.random.randn(1000,100)).to_csv(\"data.csv\")"
   ]
  },
  {
   "cell_type": "code",
   "execution_count": 16,
   "metadata": {},
   "outputs": [
    {
     "name": "stderr",
     "output_type": "stream",
     "text": [
      "C:\\Users\\Madhur\\Anaconda3\\lib\\site-packages\\ipykernel_launcher.py:2: FutureWarning: from_csv is deprecated. Please use read_csv(...) instead. Note that some of the default arguments are different, so please refer to the documentation for from_csv when changing your function calls\n",
      "  \n"
     ]
    }
   ],
   "source": [
    "### Read data.csv\n",
    "data = pd.DataFrame.from_csv(\"data.csv\")"
   ]
  },
  {
   "cell_type": "code",
   "execution_count": 28,
   "metadata": {},
   "outputs": [],
   "source": [
    "num_of_days   = data.shape[0]\n",
    "num_of_stocks = data.shape[1]"
   ]
  },
  {
   "cell_type": "code",
   "execution_count": 49,
   "metadata": {},
   "outputs": [
    {
     "data": {
      "text/plain": [
       "9.028293182853501"
      ]
     },
     "execution_count": 49,
     "metadata": {},
     "output_type": "execute_result"
    }
   ],
   "source": [
    "### Finding top 3 pair trading strategy using z-score of compounding returns\n",
    "\n",
    "## Before running it for the entire data frame we first run it for two columns\n",
    "## Accessing columns\n",
    "d1 = np.asarray(data.loc[:,str(0)])\n",
    "d2 = np.asarray(data.loc[:,str(1)])\n",
    "\n",
    "## long d1, short d2\n",
    "d = d1 - d2\n",
    "\n",
    "## compounding return index\n",
    "processed_d = np.zeros(len(d))\n",
    "processed_d[0] = 1 + d[0]\n",
    "\n",
    "for i in range(1, len(d)):\n",
    "    processed_d[i] = processed_d[(i-1)]*(1+d[i])\n",
    "    \n",
    "z_score_d = (max(processed_d) - np.mean(processed_d))/np.std(processed_d)\n",
    "z_score_d"
   ]
  },
  {
   "cell_type": "code",
   "execution_count": 60,
   "metadata": {},
   "outputs": [],
   "source": [
    "## Given 100 different stock returns we can use the above procedure to calculate z-score for pair trading strategy for all\n",
    "## This procedure would give us 100*100 matrix\n",
    "## More efficient way would be to run it only for upper diagonal elements and find maximum of absolute values\n",
    "\n",
    "def z_score_from_cumulative_returns(a, b):\n",
    "    d = a - b\n",
    "    processed_d = np.zeros(len(d))\n",
    "    processed_d[0] = 1 + d[0]\n",
    "    for i in range(1, len(d)):\n",
    "        processed_d[i] = processed_d[(i-1)]*(1+d[i])\n",
    "    z_score_d = (max(processed_d) - np.mean(processed_d))/np.std(processed_d)\n",
    "    return(z_score_d)\n",
    "\n",
    "## test the function\n",
    "#test_z = z_score_from_cumulative_returns(d1, d2)\n",
    "#test_z\n",
    "\n",
    "returns_of_pairs = np.zeros((num_of_stocks, num_of_stocks))\n",
    "\n",
    "for i in range(num_of_stocks):\n",
    "    for j in range((i+1), num_of_stocks):\n",
    "        d1 = np.asarray(data.loc[:,str(i)])\n",
    "        d2 = np.asarray(data.loc[:,str(j)])\n",
    "        #print(i, \" \", j)\n",
    "        returns_of_pairs[i][j] = returns_of_pairs[i][j] + z_score_from_cumulative_returns(d1, d2)"
   ]
  },
  {
   "cell_type": "code",
   "execution_count": 61,
   "metadata": {
    "scrolled": true
   },
   "outputs": [
    {
     "data": {
      "text/plain": [
       "array([[ 0.        ,  9.02829318, 15.29889929, ..., 18.3919948 ,\n",
       "        12.9178282 , 16.39251758],\n",
       "       [ 0.        ,  0.        , 21.38905089, ..., 22.89546299,\n",
       "        24.37765775, 21.9723015 ],\n",
       "       [ 0.        ,  0.        ,  0.        , ..., 26.35094816,\n",
       "        29.19788938,  7.99241458],\n",
       "       ...,\n",
       "       [ 0.        ,  0.        ,  0.        , ...,  0.        ,\n",
       "        11.79325306, 17.06775045],\n",
       "       [ 0.        ,  0.        ,  0.        , ...,  0.        ,\n",
       "         0.        , 24.09992918],\n",
       "       [ 0.        ,  0.        ,  0.        , ...,  0.        ,\n",
       "         0.        ,  0.        ]])"
      ]
     },
     "execution_count": 61,
     "metadata": {},
     "output_type": "execute_result"
    }
   ],
   "source": [
    "returns_of_pairs"
   ]
  },
  {
   "cell_type": "code",
   "execution_count": 62,
   "metadata": {},
   "outputs": [],
   "source": [
    "## Constructing all the returns is simple since we have upper diagonal elements\n",
    "## Note negative sign takes care of the order of long/short\n",
    "pair_trading_strategy = returns_of_pairs - returns_of_pairs.T"
   ]
  },
  {
   "cell_type": "code",
   "execution_count": 63,
   "metadata": {},
   "outputs": [
    {
     "data": {
      "text/plain": [
       "array([[  0.        ,   9.02829318,  15.29889929, ...,  18.3919948 ,\n",
       "         12.9178282 ,  16.39251758],\n",
       "       [ -9.02829318,   0.        ,  21.38905089, ...,  22.89546299,\n",
       "         24.37765775,  21.9723015 ],\n",
       "       [-15.29889929, -21.38905089,   0.        , ...,  26.35094816,\n",
       "         29.19788938,   7.99241458],\n",
       "       ...,\n",
       "       [-18.3919948 , -22.89546299, -26.35094816, ...,   0.        ,\n",
       "         11.79325306,  17.06775045],\n",
       "       [-12.9178282 , -24.37765775, -29.19788938, ..., -11.79325306,\n",
       "          0.        ,  24.09992918],\n",
       "       [-16.39251758, -21.9723015 ,  -7.99241458, ..., -17.06775045,\n",
       "        -24.09992918,   0.        ]])"
      ]
     },
     "execution_count": 63,
     "metadata": {},
     "output_type": "execute_result"
    }
   ],
   "source": [
    "pair_trading_strategy"
   ]
  },
  {
   "cell_type": "code",
   "execution_count": 64,
   "metadata": {},
   "outputs": [],
   "source": [
    "### Get largest indices\n",
    "\n",
    "def get_largest_indices(arr, n):\n",
    "    flat = arr.flatten()\n",
    "    indices = np.argpartition(flat, -n)[-n:]\n",
    "    indices = indices[np.argsort(-flat[indices])]\n",
    "    return np.unravel_index(indices, arr.shape)\n",
    "\n",
    "### get the best 3 pairs for trading strategy\n",
    "\n",
    "best_pairs = get_largest_indices(pair_trading_strategy, 3)"
   ]
  },
  {
   "cell_type": "code",
   "execution_count": 68,
   "metadata": {},
   "outputs": [
    {
     "data": {
      "text/plain": [
       "[[16, 19], [6, 20], [27, 29]]"
      ]
     },
     "execution_count": 68,
     "metadata": {},
     "output_type": "execute_result"
    }
   ],
   "source": [
    "long_in_pair  = best_pairs[0]\n",
    "short_in_pair = best_pairs[1]\n",
    "\n",
    "long_short_pairs = []\n",
    "\n",
    "for i in range(len(long_in_pair)):\n",
    "    long_short_pairs.append([long_in_pair[i], short_in_pair[i]])\n",
    "    \n",
    "long_short_pairs"
   ]
  },
  {
   "cell_type": "code",
   "execution_count": null,
   "metadata": {},
   "outputs": [],
   "source": []
  }
 ],
 "metadata": {
  "kernelspec": {
   "display_name": "Python 3",
   "language": "python",
   "name": "python3"
  },
  "language_info": {
   "codemirror_mode": {
    "name": "ipython",
    "version": 3
   },
   "file_extension": ".py",
   "mimetype": "text/x-python",
   "name": "python",
   "nbconvert_exporter": "python",
   "pygments_lexer": "ipython3",
   "version": "3.7.1"
  }
 },
 "nbformat": 4,
 "nbformat_minor": 2
}
